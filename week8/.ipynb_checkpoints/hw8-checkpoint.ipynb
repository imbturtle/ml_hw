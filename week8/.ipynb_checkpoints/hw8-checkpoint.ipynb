{
 "cells": [
  {
   "cell_type": "code",
   "execution_count": 1,
   "metadata": {},
   "outputs": [],
   "source": [
    "import time\n",
    "import numpy as np\n",
    "matrix=np.array([[0,0,0,0,0,0,0,0,0,0],\n",
    "                 [0,1,1,1,1,0,0,0,1,1],\n",
    "                 [0,0,1,1,1,0,1,1,1,1],\n",
    "                 [0,0,1,1,0,0,1,1,1,1],\n",
    "                 [0,1,1,1,0,0,1,1,1,0],\n",
    "                 [0,0,0,0,0,0,0,0,1,0],\n",
    "                 [0,0,0,1,1,1,0,0,1,0],\n",
    "                 [0,0,0,1,1,1,1,0,0,0],\n",
    "                 [0,0,0,1,1,1,1,0,0,0],\n",
    "                 [0,0,0,0,0,0,1,0,0,0]])"
   ]
  },
  {
   "cell_type": "markdown",
   "metadata": {},
   "source": [
    "**<font color = blue size=9>Region growing</font>**"
   ]
  },
  {
   "cell_type": "code",
   "execution_count": 2,
   "metadata": {},
   "outputs": [
    {
     "name": "stdout",
     "output_type": "stream",
     "text": [
      "there are 3 object\n",
      "the area of 0 object is 12\n",
      "the area of 1 object is 15\n",
      "the area of 2 object is 12\n",
      "time elapsed: 0.001011 seconds\n"
     ]
    }
   ],
   "source": [
    "t_start = time.time()\n",
    "def floodfill(x,y):\n",
    "    global area\n",
    "    if x>0:\n",
    "        if matrix[y,x-1]==1:\n",
    "            if check([x-1,y])==0:\n",
    "                area.append([x-1,y])\n",
    "                floodfill(x-1,y)\n",
    "    if x<matrix.shape[1]-1:\n",
    "       if matrix[y,x+1]==1:\n",
    "           if check([x+1,y])==0:\n",
    "               area.append([x+1,y])\n",
    "               floodfill(x+1,y)\n",
    "    if y>0:\n",
    "       if matrix[y-1,x]==1:\n",
    "           if check([x,y-1])==0:\n",
    "               area.append([x,y-1])\n",
    "               floodfill(x,y-1)\n",
    "    if y<matrix.shape[0]-1:\n",
    "       if matrix[y+1,x]==1:\n",
    "           if check([x,y+1])==0:\n",
    "               area.append([x,y+1])\n",
    "               floodfill(x,y+1)\n",
    "    return area\n",
    "def check(x):\n",
    "    global area\n",
    "    for address in bulk:\n",
    "        if x in address:  \n",
    "            return 1\n",
    "    if x in area:  \n",
    "        return 1\n",
    "    return 0\n",
    "bulk=[]\n",
    "area=[]\n",
    "for j in range(matrix.shape[0]):\n",
    "    for i in range(matrix.shape[1]):\n",
    "        if matrix[j,i]==1:\n",
    "            if check([i,j]):\n",
    "                continue\n",
    "            area=[[i,j]]\n",
    "            bulk.append(floodfill(i,j))\n",
    "print('there are',len(bulk),'object')\n",
    "for i,j in enumerate(bulk):\n",
    "    print('the area of',i,'object is',len(j))\n",
    "t_end = time.time()\n",
    "print('time elapsed: ' + str(round(t_end-t_start,6)) + ' seconds')"
   ]
  },
  {
   "cell_type": "markdown",
   "metadata": {},
   "source": [
    "**<font color = blue size=9>Connected-componen</font>**"
   ]
  },
  {
   "cell_type": "code",
   "execution_count": 3,
   "metadata": {},
   "outputs": [
    {
     "name": "stdout",
     "output_type": "stream",
     "text": [
      "there are 3 object\n",
      "the area of 0 object is 12\n",
      "the area of 1 object is 15\n",
      "the area of 2 object is 12\n",
      "time elapsed: 0.00199 seconds\n"
     ]
    }
   ],
   "source": [
    "t_start = time.time()\n",
    "labels=np.zeros((matrix.shape), dtype=int)\n",
    "tag=0\n",
    "connect=[]\n",
    "def mark():\n",
    "    global labels,i,j,tag,connect\n",
    "    if labels[j,i-1]==0 and labels[j-1,i]==0:\n",
    "        tag+=1\n",
    "        labels[j,i]=tag\n",
    "    elif labels[j,i-1]!=0 and labels[j-1,i]!=0:\n",
    "        labels[j,i]=min(labels[j-1,i],labels[j,i-1])\n",
    "        if labels[j,i-1]!=labels[j-1,i]:\n",
    "            connect.append([min(labels[j-1,i],labels[j,i-1]),max(labels[j-1,i],labels[j,i-1])])\n",
    "    else:\n",
    "        labels[j,i]=max(labels[j-1,i],labels[j,i-1])\n",
    "\n",
    "    if matrix[j,i]==1:\n",
    "        return i,j\n",
    "    mark()\n",
    "for j in range(matrix.shape[0]):\n",
    "    for i in range(matrix.shape[1]):\n",
    "        if matrix[j,i]==1:\n",
    "            mark()\n",
    "garbage = set(tuple(l) for l in connect)\n",
    "connect = [list(l) for l in garbage]\n",
    "garbage = list(range(1,tag+1))\n",
    "for i in connect:   \n",
    "    labels[labels==i[1]]=i[0]\n",
    "    garbage.remove(i[1])\n",
    "bulk=[]\n",
    "for i in garbage:\n",
    "    bulk.append(np.argwhere(labels==i))\n",
    "print('there are',len(bulk),'object')\n",
    "for i,j in enumerate(bulk):\n",
    "    print('the area of',i,'object is',len(j))\n",
    "t_end = time.time()\n",
    "print('time elapsed: ' + str(round(t_end-t_start,6)) + ' seconds')"
   ]
  },
  {
   "cell_type": "code",
   "execution_count": null,
   "metadata": {},
   "outputs": [],
   "source": []
  }
 ],
 "metadata": {
  "kernelspec": {
   "display_name": "Python 3",
   "language": "python",
   "name": "python3"
  },
  "language_info": {
   "codemirror_mode": {
    "name": "ipython",
    "version": 3
   },
   "file_extension": ".py",
   "mimetype": "text/x-python",
   "name": "python",
   "nbconvert_exporter": "python",
   "pygments_lexer": "ipython3",
   "version": "3.7.7"
  }
 },
 "nbformat": 4,
 "nbformat_minor": 4
}
